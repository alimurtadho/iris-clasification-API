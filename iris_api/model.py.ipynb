{
 "cells": [
  {
   "cell_type": "code",
   "execution_count": 2,
   "metadata": {},
   "outputs": [],
   "source": [
    "import pandas as pd\n",
    "import numpy as np\n",
    "# Plotting Packages\n",
    "import matplotlib.pyplot as plt\n",
    "import seaborn as sns\n",
    "import pandas.util.testing as tm"
   ]
  },
  {
   "cell_type": "code",
   "execution_count": 4,
   "metadata": {},
   "outputs": [],
   "source": [
    "# ML Packages\n",
    "\n",
    "from sklearn import model_selection\n",
    "from sklearn.metrics import classification_report\n",
    "from sklearn.metrics import confusion_matrix\n",
    "from sklearn.metrics import accuracy_score\n",
    "from sklearn.linear_model import LogisticRegression"
   ]
  },
  {
   "cell_type": "code",
   "execution_count": 5,
   "metadata": {},
   "outputs": [
    {
     "data": {
      "text/html": [
       "<div>\n",
       "<style scoped>\n",
       "    .dataframe tbody tr th:only-of-type {\n",
       "        vertical-align: middle;\n",
       "    }\n",
       "\n",
       "    .dataframe tbody tr th {\n",
       "        vertical-align: top;\n",
       "    }\n",
       "\n",
       "    .dataframe thead th {\n",
       "        text-align: right;\n",
       "    }\n",
       "</style>\n",
       "<table border=\"1\" class=\"dataframe\">\n",
       "  <thead>\n",
       "    <tr style=\"text-align: right;\">\n",
       "      <th></th>\n",
       "      <th>sepal.length</th>\n",
       "      <th>sepal.width</th>\n",
       "      <th>petal.length</th>\n",
       "      <th>petal.width</th>\n",
       "      <th>variety</th>\n",
       "    </tr>\n",
       "  </thead>\n",
       "  <tbody>\n",
       "    <tr>\n",
       "      <th>0</th>\n",
       "      <td>5.1</td>\n",
       "      <td>3.5</td>\n",
       "      <td>1.4</td>\n",
       "      <td>0.2</td>\n",
       "      <td>Setosa</td>\n",
       "    </tr>\n",
       "    <tr>\n",
       "      <th>1</th>\n",
       "      <td>4.9</td>\n",
       "      <td>3.0</td>\n",
       "      <td>1.4</td>\n",
       "      <td>0.2</td>\n",
       "      <td>Setosa</td>\n",
       "    </tr>\n",
       "    <tr>\n",
       "      <th>2</th>\n",
       "      <td>4.7</td>\n",
       "      <td>3.2</td>\n",
       "      <td>1.3</td>\n",
       "      <td>0.2</td>\n",
       "      <td>Setosa</td>\n",
       "    </tr>\n",
       "    <tr>\n",
       "      <th>3</th>\n",
       "      <td>4.6</td>\n",
       "      <td>3.1</td>\n",
       "      <td>1.5</td>\n",
       "      <td>0.2</td>\n",
       "      <td>Setosa</td>\n",
       "    </tr>\n",
       "    <tr>\n",
       "      <th>4</th>\n",
       "      <td>5.0</td>\n",
       "      <td>3.6</td>\n",
       "      <td>1.4</td>\n",
       "      <td>0.2</td>\n",
       "      <td>Setosa</td>\n",
       "    </tr>\n",
       "  </tbody>\n",
       "</table>\n",
       "</div>"
      ],
      "text/plain": [
       "   sepal.length  sepal.width  petal.length  petal.width variety\n",
       "0           5.1          3.5           1.4          0.2  Setosa\n",
       "1           4.9          3.0           1.4          0.2  Setosa\n",
       "2           4.7          3.2           1.3          0.2  Setosa\n",
       "3           4.6          3.1           1.5          0.2  Setosa\n",
       "4           5.0          3.6           1.4          0.2  Setosa"
      ]
     },
     "execution_count": 5,
     "metadata": {},
     "output_type": "execute_result"
    }
   ],
   "source": [
    "# load our dataset\n",
    "df = pd.read_csv(\"iris.csv\")\n",
    "df.head()"
   ]
  },
  {
   "cell_type": "code",
   "execution_count": 6,
   "metadata": {},
   "outputs": [
    {
     "data": {
      "text/html": [
       "<div>\n",
       "<style scoped>\n",
       "    .dataframe tbody tr th:only-of-type {\n",
       "        vertical-align: middle;\n",
       "    }\n",
       "\n",
       "    .dataframe tbody tr th {\n",
       "        vertical-align: top;\n",
       "    }\n",
       "\n",
       "    .dataframe thead th {\n",
       "        text-align: right;\n",
       "    }\n",
       "</style>\n",
       "<table border=\"1\" class=\"dataframe\">\n",
       "  <thead>\n",
       "    <tr style=\"text-align: right;\">\n",
       "      <th></th>\n",
       "      <th>sepal.length</th>\n",
       "      <th>sepal.width</th>\n",
       "      <th>petal.length</th>\n",
       "      <th>petal.width</th>\n",
       "    </tr>\n",
       "  </thead>\n",
       "  <tbody>\n",
       "    <tr>\n",
       "      <th>count</th>\n",
       "      <td>150.000000</td>\n",
       "      <td>150.000000</td>\n",
       "      <td>150.000000</td>\n",
       "      <td>150.000000</td>\n",
       "    </tr>\n",
       "    <tr>\n",
       "      <th>mean</th>\n",
       "      <td>5.843333</td>\n",
       "      <td>3.057333</td>\n",
       "      <td>3.758000</td>\n",
       "      <td>1.199333</td>\n",
       "    </tr>\n",
       "    <tr>\n",
       "      <th>std</th>\n",
       "      <td>0.828066</td>\n",
       "      <td>0.435866</td>\n",
       "      <td>1.765298</td>\n",
       "      <td>0.762238</td>\n",
       "    </tr>\n",
       "    <tr>\n",
       "      <th>min</th>\n",
       "      <td>4.300000</td>\n",
       "      <td>2.000000</td>\n",
       "      <td>1.000000</td>\n",
       "      <td>0.100000</td>\n",
       "    </tr>\n",
       "    <tr>\n",
       "      <th>25%</th>\n",
       "      <td>5.100000</td>\n",
       "      <td>2.800000</td>\n",
       "      <td>1.600000</td>\n",
       "      <td>0.300000</td>\n",
       "    </tr>\n",
       "    <tr>\n",
       "      <th>50%</th>\n",
       "      <td>5.800000</td>\n",
       "      <td>3.000000</td>\n",
       "      <td>4.350000</td>\n",
       "      <td>1.300000</td>\n",
       "    </tr>\n",
       "    <tr>\n",
       "      <th>75%</th>\n",
       "      <td>6.400000</td>\n",
       "      <td>3.300000</td>\n",
       "      <td>5.100000</td>\n",
       "      <td>1.800000</td>\n",
       "    </tr>\n",
       "    <tr>\n",
       "      <th>max</th>\n",
       "      <td>7.900000</td>\n",
       "      <td>4.400000</td>\n",
       "      <td>6.900000</td>\n",
       "      <td>2.500000</td>\n",
       "    </tr>\n",
       "  </tbody>\n",
       "</table>\n",
       "</div>"
      ],
      "text/plain": [
       "       sepal.length  sepal.width  petal.length  petal.width\n",
       "count    150.000000   150.000000    150.000000   150.000000\n",
       "mean       5.843333     3.057333      3.758000     1.199333\n",
       "std        0.828066     0.435866      1.765298     0.762238\n",
       "min        4.300000     2.000000      1.000000     0.100000\n",
       "25%        5.100000     2.800000      1.600000     0.300000\n",
       "50%        5.800000     3.000000      4.350000     1.300000\n",
       "75%        6.400000     3.300000      5.100000     1.800000\n",
       "max        7.900000     4.400000      6.900000     2.500000"
      ]
     },
     "execution_count": 6,
     "metadata": {},
     "output_type": "execute_result"
    }
   ],
   "source": [
    "df.describe()"
   ]
  },
  {
   "cell_type": "code",
   "execution_count": 7,
   "metadata": {},
   "outputs": [],
   "source": [
    "\n",
    "# Split-out validation dataset\n",
    "array = df.values\n",
    "x = array[:,0:4]\n",
    "y = array[:,4]"
   ]
  },
  {
   "cell_type": "code",
   "execution_count": 8,
   "metadata": {},
   "outputs": [
    {
     "data": {
      "text/plain": [
       "array([[5.1, 3.4, 1.5, 0.2],\n",
       "       [5.5, 2.3, 4.0, 1.3],\n",
       "       [5.7, 2.6, 3.5, 1.0],\n",
       "       [5.4, 3.7, 1.5, 0.2],\n",
       "       [7.0, 3.2, 4.7, 1.4],\n",
       "       [5.0, 3.3, 1.4, 0.2],\n",
       "       [5.0, 3.5, 1.6, 0.6],\n",
       "       [7.7, 3.0, 6.1, 2.3],\n",
       "       [5.0, 3.5, 1.3, 0.3],\n",
       "       [6.4, 3.2, 5.3, 2.3],\n",
       "       [5.8, 2.7, 5.1, 1.9],\n",
       "       [5.6, 2.5, 3.9, 1.1],\n",
       "       [5.1, 3.5, 1.4, 0.3],\n",
       "       [5.1, 3.8, 1.6, 0.2],\n",
       "       [6.5, 2.8, 4.6, 1.5],\n",
       "       [6.2, 2.8, 4.8, 1.8],\n",
       "       [5.9, 3.0, 4.2, 1.5],\n",
       "       [6.7, 3.3, 5.7, 2.1],\n",
       "       [7.7, 3.8, 6.7, 2.2],\n",
       "       [5.4, 3.4, 1.7, 0.2],\n",
       "       [6.3, 2.5, 5.0, 1.9],\n",
       "       [5.0, 3.2, 1.2, 0.2],\n",
       "       [4.6, 3.4, 1.4, 0.3],\n",
       "       [5.7, 4.4, 1.5, 0.4],\n",
       "       [5.2, 3.4, 1.4, 0.2],\n",
       "       [6.2, 2.9, 4.3, 1.3],\n",
       "       [6.3, 3.3, 4.7, 1.6],\n",
       "       [5.5, 2.4, 3.7, 1.0],\n",
       "       [5.1, 2.5, 3.0, 1.1],\n",
       "       [5.9, 3.0, 5.1, 1.8],\n",
       "       [5.0, 2.0, 3.5, 1.0],\n",
       "       [6.5, 3.0, 5.2, 2.0],\n",
       "       [6.5, 3.0, 5.8, 2.2],\n",
       "       [6.9, 3.1, 4.9, 1.5],\n",
       "       [4.6, 3.6, 1.0, 0.2],\n",
       "       [6.6, 3.0, 4.4, 1.4],\n",
       "       [4.9, 3.6, 1.4, 0.1],\n",
       "       [6.7, 3.0, 5.0, 1.7],\n",
       "       [6.7, 3.0, 5.2, 2.3],\n",
       "       [5.6, 2.9, 3.6, 1.3],\n",
       "       [6.3, 3.4, 5.6, 2.4],\n",
       "       [5.6, 2.7, 4.2, 1.3],\n",
       "       [6.1, 3.0, 4.9, 1.8],\n",
       "       [6.3, 2.3, 4.4, 1.3],\n",
       "       [5.8, 2.6, 4.0, 1.2],\n",
       "       [5.7, 3.0, 4.2, 1.2],\n",
       "       [6.9, 3.1, 5.4, 2.1],\n",
       "       [6.8, 2.8, 4.8, 1.4],\n",
       "       [5.2, 4.1, 1.5, 0.1],\n",
       "       [5.8, 2.7, 5.1, 1.9],\n",
       "       [4.3, 3.0, 1.1, 0.1],\n",
       "       [4.8, 3.4, 1.9, 0.2],\n",
       "       [5.2, 2.7, 3.9, 1.4],\n",
       "       [4.8, 3.0, 1.4, 0.3],\n",
       "       [4.9, 3.1, 1.5, 0.2],\n",
       "       [7.9, 3.8, 6.4, 2.0],\n",
       "       [5.0, 2.3, 3.3, 1.0],\n",
       "       [4.6, 3.2, 1.4, 0.2],\n",
       "       [6.5, 3.0, 5.5, 1.8],\n",
       "       [4.9, 3.1, 1.5, 0.1],\n",
       "       [6.0, 2.2, 5.0, 1.5],\n",
       "       [5.5, 2.6, 4.4, 1.2],\n",
       "       [5.8, 4.0, 1.2, 0.2],\n",
       "       [5.4, 3.9, 1.3, 0.4],\n",
       "       [6.4, 2.7, 5.3, 1.9],\n",
       "       [6.0, 3.4, 4.5, 1.6],\n",
       "       [5.5, 2.5, 4.0, 1.3],\n",
       "       [5.5, 4.2, 1.4, 0.2],\n",
       "       [4.7, 3.2, 1.6, 0.2],\n",
       "       [6.9, 3.2, 5.7, 2.3],\n",
       "       [6.0, 2.9, 4.5, 1.5],\n",
       "       [6.1, 3.0, 4.6, 1.4],\n",
       "       [4.6, 3.1, 1.5, 0.2],\n",
       "       [5.7, 2.8, 4.5, 1.3],\n",
       "       [6.0, 3.0, 4.8, 1.8],\n",
       "       [5.8, 2.7, 4.1, 1.0],\n",
       "       [4.8, 3.4, 1.6, 0.2],\n",
       "       [6.0, 2.2, 4.0, 1.0],\n",
       "       [6.4, 3.1, 5.5, 1.8],\n",
       "       [6.7, 2.5, 5.8, 1.8],\n",
       "       [6.3, 3.3, 6.0, 2.5],\n",
       "       [6.8, 3.2, 5.9, 2.3],\n",
       "       [5.7, 3.8, 1.7, 0.3],\n",
       "       [5.1, 3.8, 1.5, 0.3],\n",
       "       [6.0, 2.7, 5.1, 1.6],\n",
       "       [7.7, 2.8, 6.7, 2.0],\n",
       "       [4.4, 3.0, 1.3, 0.2],\n",
       "       [6.2, 2.2, 4.5, 1.5],\n",
       "       [4.7, 3.2, 1.3, 0.2],\n",
       "       [5.4, 3.4, 1.5, 0.4],\n",
       "       [6.7, 3.1, 5.6, 2.4],\n",
       "       [6.4, 3.2, 4.5, 1.5],\n",
       "       [7.6, 3.0, 6.6, 2.1],\n",
       "       [5.5, 3.5, 1.3, 0.2],\n",
       "       [6.5, 3.2, 5.1, 2.0],\n",
       "       [5.0, 3.6, 1.4, 0.2],\n",
       "       [6.9, 3.1, 5.1, 2.3],\n",
       "       [5.1, 3.5, 1.4, 0.2],\n",
       "       [6.6, 2.9, 4.6, 1.3],\n",
       "       [5.4, 3.9, 1.7, 0.4],\n",
       "       [6.3, 2.9, 5.6, 1.8],\n",
       "       [7.2, 3.0, 5.8, 1.6],\n",
       "       [4.5, 2.3, 1.3, 0.3],\n",
       "       [4.9, 2.5, 4.5, 1.7],\n",
       "       [5.6, 2.8, 4.9, 2.0],\n",
       "       [7.2, 3.2, 6.0, 1.8],\n",
       "       [6.7, 3.1, 4.7, 1.5],\n",
       "       [4.8, 3.1, 1.6, 0.2],\n",
       "       [6.7, 3.1, 4.4, 1.4],\n",
       "       [5.1, 3.8, 1.9, 0.4],\n",
       "       [5.2, 3.5, 1.5, 0.2],\n",
       "       [5.5, 2.4, 3.8, 1.1],\n",
       "       [5.7, 2.5, 5.0, 2.0],\n",
       "       [5.0, 3.4, 1.5, 0.2],\n",
       "       [6.8, 3.0, 5.5, 2.1],\n",
       "       [4.4, 2.9, 1.4, 0.2],\n",
       "       [6.1, 2.8, 4.7, 1.2],\n",
       "       [6.7, 3.3, 5.7, 2.5],\n",
       "       [7.7, 2.6, 6.9, 2.3],\n",
       "       [5.7, 2.8, 4.1, 1.3]], dtype=object)"
      ]
     },
     "execution_count": 8,
     "metadata": {},
     "output_type": "execute_result"
    }
   ],
   "source": [
    "from sklearn.model_selection import train_test_split\n",
    "\n",
    "x_train, x_test, y_train, y_test = train_test_split(x, y, test_size=0.2, random_state=5)\n",
    "\n",
    "x_train"
   ]
  },
  {
   "cell_type": "code",
   "execution_count": 9,
   "metadata": {},
   "outputs": [],
   "source": [
    "from sklearn.linear_model import LogisticRegression\n",
    "from sklearn.metrics import classification_report , confusion_matrix"
   ]
  },
  {
   "cell_type": "code",
   "execution_count": 11,
   "metadata": {},
   "outputs": [
    {
     "data": {
      "text/plain": [
       "LogisticRegression(random_state=0)"
      ]
     },
     "execution_count": 11,
     "metadata": {},
     "output_type": "execute_result"
    }
   ],
   "source": [
    "logistic_model = LogisticRegression(random_state = 0)\n",
    "logistic_model.fit(x_train, y_train)"
   ]
  },
  {
   "cell_type": "code",
   "execution_count": 12,
   "metadata": {},
   "outputs": [
    {
     "data": {
      "text/plain": [
       "array(['Versicolor', 'Virginica', 'Virginica', 'Setosa', 'Virginica',\n",
       "       'Versicolor', 'Setosa', 'Virginica', 'Setosa', 'Versicolor',\n",
       "       'Versicolor', 'Virginica', 'Virginica', 'Virginica', 'Setosa',\n",
       "       'Setosa', 'Virginica', 'Virginica', 'Setosa', 'Setosa',\n",
       "       'Versicolor', 'Virginica', 'Setosa', 'Versicolor', 'Versicolor',\n",
       "       'Virginica', 'Versicolor', 'Versicolor', 'Versicolor', 'Virginica'],\n",
       "      dtype=object)"
      ]
     },
     "execution_count": 12,
     "metadata": {},
     "output_type": "execute_result"
    }
   ],
   "source": [
    "y_predict =logistic_model.predict(x_test)\n",
    "y_predict"
   ]
  },
  {
   "cell_type": "code",
   "execution_count": 13,
   "metadata": {},
   "outputs": [
    {
     "data": {
      "text/plain": [
       "<AxesSubplot:>"
      ]
     },
     "execution_count": 13,
     "metadata": {},
     "output_type": "execute_result"
    },
    {
     "data": {
      "image/png": "[encoded data removed]",
      "text/plain": [
       "<Figure size 432x288 with 2 Axes>"
      ]
     },
     "metadata": {
      "needs_background": "light"
     },
     "output_type": "display_data"
    }
   ],
   "source": [
    "cm = confusion_matrix(y_test,y_predict)\n",
    "\n",
    "sns.heatmap(cm ,annot=True)"
   ]
  },
  {
   "cell_type": "code",
   "execution_count": 14,
   "metadata": {},
   "outputs": [
    {
     "name": "stdout",
     "output_type": "stream",
     "text": [
      "              precision    recall  f1-score   support\n",
      "\n",
      "      Setosa       1.00      1.00      1.00         8\n",
      "  Versicolor       1.00      0.91      0.95        11\n",
      "   Virginica       0.92      1.00      0.96        11\n",
      "\n",
      "    accuracy                           0.97        30\n",
      "   macro avg       0.97      0.97      0.97        30\n",
      "weighted avg       0.97      0.97      0.97        30\n",
      "\n"
     ]
    }
   ],
   "source": [
    "print(classification_report(y_test,y_predict))"
   ]
  },
  {
   "cell_type": "code",
   "execution_count": 15,
   "metadata": {},
   "outputs": [
    {
     "name": "stdout",
     "output_type": "stream",
     "text": [
      "accuracy : 0.9666666666666667\n"
     ]
    }
   ],
   "source": [
    "print(\"accuracy :\" , logistic_model.score(x_test,y_test))"
   ]
  },
  {
   "cell_type": "code",
   "execution_count": 17,
   "metadata": {},
   "outputs": [],
   "source": [
    "# Saving model to disk\n",
    "import pickle\n",
    "pickle.dump(logistic_model, open('logistic_model.pkl','wb'))"
   ]
  },
  {
   "cell_type": "code",
   "execution_count": null,
   "metadata": {},
   "outputs": [],
   "source": []
  }
 ],
 "metadata": {
  "kernelspec": {
   "display_name": "Python 3",
   "language": "python",
   "name": "python3"
  },
  "language_info": {
   "codemirror_mode": {
    "name": "ipython",
    "version": 3
   },
   "file_extension": ".py",
   "mimetype": "text/x-python",
   "name": "python",
   "nbconvert_exporter": "python",
   "pygments_lexer": "ipython3",
   "version": "3.8.7"
  }
 },
 "nbformat": 4,
 "nbformat_minor": 4
}
